{
 "cells": [
  {
   "cell_type": "code",
   "execution_count": 39,
   "metadata": {},
   "outputs": [],
   "source": [
    "import torch\n",
    "import torch.nn as nn\n",
    "import torch.nn.functional as F\n",
    "import torch.optim as optim\n",
    "import pandas as pd\n",
    "from sklearn import datasets\n",
    "from sklearn.model_selection import train_test_split\n",
    "from torch.utils.data import Dataset\n",
    "from torch.utils.data import DataLoader\n",
    "#torch.manual_seed(1)"
   ]
  },
  {
   "cell_type": "code",
   "execution_count": 40,
   "metadata": {},
   "outputs": [],
   "source": [
    "class LogisticRegressionModel(nn.Module):\n",
    "    def __init__(self):\n",
    "        super().__init__()\n",
    "        self.linear = nn.Linear(30, 1)\n",
    "        self.sigmoid = nn.Sigmoid()\n",
    "    \n",
    "    def forward(self, x):\n",
    "        return self.sigmoid(self.linear(x))\n"
   ]
  },
  {
   "cell_type": "code",
   "execution_count": 41,
   "metadata": {},
   "outputs": [
    {
     "name": "stdout",
     "output_type": "stream",
     "text": [
      "torch.Size([455, 30])\n",
      "torch.Size([455, 1])\n"
     ]
    }
   ],
   "source": [
    "data = datasets.load_breast_cancer()\n",
    "\n",
    "\n",
    "x_data = data['data']\n",
    "y_data = data['target']\n",
    "X_train, X_test, y_train, y_test = train_test_split(x_data, y_data, test_size=0.2)\n",
    "X_train = torch.FloatTensor(X_train)\n",
    "y_train = torch.FloatTensor(y_train).view(-1,1)\n",
    "X_test = torch.FloatTensor(X_test)\n",
    "y_test = torch.FloatTensor(y_test).view(-1,1)\n",
    "\n",
    "print(X_train.shape)\n",
    "print(y_train.shape)"
   ]
  },
  {
   "cell_type": "code",
   "execution_count": 42,
   "metadata": {},
   "outputs": [],
   "source": [
    "model = LogisticRegressionModel()\n",
    "optimizer = optim.SGD(model.parameters(),lr=0.01)"
   ]
  },
  {
   "cell_type": "code",
   "execution_count": 43,
   "metadata": {},
   "outputs": [
    {
     "name": "stdout",
     "output_type": "stream",
     "text": [
      "Epoch:   0/1000 cost:0.37143\n",
      "Epoch:  10/1000 cost:0.37143\n",
      "Epoch:  20/1000 cost:0.37143\n",
      "Epoch:  30/1000 cost:0.37143\n",
      "Epoch:  40/1000 cost:0.37143\n",
      "Epoch:  50/1000 cost:0.37143\n",
      "Epoch:  60/1000 cost:0.37143\n",
      "Epoch:  70/1000 cost:0.37143\n",
      "Epoch:  80/1000 cost:0.37143\n",
      "Epoch:  90/1000 cost:0.37143\n",
      "Epoch: 100/1000 cost:0.37143\n",
      "Epoch: 110/1000 cost:0.37143\n",
      "Epoch: 120/1000 cost:0.37143\n",
      "Epoch: 130/1000 cost:0.37143\n",
      "Epoch: 140/1000 cost:0.37143\n",
      "Epoch: 150/1000 cost:0.37143\n",
      "Epoch: 160/1000 cost:0.37143\n",
      "Epoch: 170/1000 cost:0.37143\n",
      "Epoch: 180/1000 cost:0.37143\n",
      "Epoch: 190/1000 cost:0.37143\n",
      "Epoch: 200/1000 cost:0.37143\n",
      "Epoch: 210/1000 cost:0.37143\n",
      "Epoch: 220/1000 cost:0.37143\n",
      "Epoch: 230/1000 cost:0.37143\n",
      "Epoch: 240/1000 cost:0.37143\n",
      "Epoch: 250/1000 cost:0.37143\n",
      "Epoch: 260/1000 cost:0.37143\n",
      "Epoch: 270/1000 cost:0.37143\n",
      "Epoch: 280/1000 cost:0.37143\n",
      "Epoch: 290/1000 cost:0.37143\n",
      "Epoch: 300/1000 cost:0.37143\n",
      "Epoch: 310/1000 cost:0.37143\n",
      "Epoch: 320/1000 cost:0.37143\n",
      "Epoch: 330/1000 cost:0.37143\n",
      "Epoch: 340/1000 cost:0.37143\n",
      "Epoch: 350/1000 cost:0.37143\n",
      "Epoch: 360/1000 cost:0.37143\n",
      "Epoch: 370/1000 cost:0.37143\n",
      "Epoch: 380/1000 cost:0.37143\n",
      "Epoch: 390/1000 cost:0.37143\n",
      "Epoch: 400/1000 cost:0.37143\n",
      "Epoch: 410/1000 cost:0.37143\n",
      "Epoch: 420/1000 cost:0.37143\n",
      "Epoch: 430/1000 cost:0.37143\n",
      "Epoch: 440/1000 cost:0.37143\n",
      "Epoch: 450/1000 cost:0.37143\n",
      "Epoch: 460/1000 cost:0.37143\n",
      "Epoch: 470/1000 cost:0.37143\n",
      "Epoch: 480/1000 cost:0.37143\n",
      "Epoch: 490/1000 cost:0.37143\n",
      "Epoch: 500/1000 cost:0.37143\n",
      "Epoch: 510/1000 cost:0.37143\n",
      "Epoch: 520/1000 cost:0.37143\n",
      "Epoch: 530/1000 cost:0.37143\n",
      "Epoch: 540/1000 cost:0.37143\n",
      "Epoch: 550/1000 cost:0.37143\n",
      "Epoch: 560/1000 cost:0.37143\n",
      "Epoch: 570/1000 cost:0.37143\n",
      "Epoch: 580/1000 cost:0.37143\n",
      "Epoch: 590/1000 cost:0.37143\n",
      "Epoch: 600/1000 cost:0.37143\n",
      "Epoch: 610/1000 cost:0.37143\n",
      "Epoch: 620/1000 cost:0.37143\n",
      "Epoch: 630/1000 cost:0.37143\n",
      "Epoch: 640/1000 cost:0.37143\n",
      "Epoch: 650/1000 cost:0.37143\n",
      "Epoch: 660/1000 cost:0.37143\n",
      "Epoch: 670/1000 cost:0.37143\n",
      "Epoch: 680/1000 cost:0.37143\n",
      "Epoch: 690/1000 cost:0.37143\n",
      "Epoch: 700/1000 cost:0.37143\n",
      "Epoch: 710/1000 cost:0.37143\n",
      "Epoch: 720/1000 cost:0.37143\n",
      "Epoch: 730/1000 cost:0.37143\n",
      "Epoch: 740/1000 cost:0.37143\n",
      "Epoch: 750/1000 cost:0.37143\n",
      "Epoch: 760/1000 cost:0.37143\n",
      "Epoch: 770/1000 cost:0.37143\n",
      "Epoch: 780/1000 cost:0.37143\n",
      "Epoch: 790/1000 cost:0.37143\n",
      "Epoch: 800/1000 cost:0.37143\n",
      "Epoch: 810/1000 cost:0.37143\n",
      "Epoch: 820/1000 cost:0.37143\n",
      "Epoch: 830/1000 cost:0.37143\n",
      "Epoch: 840/1000 cost:0.37143\n",
      "Epoch: 850/1000 cost:0.37143\n",
      "Epoch: 860/1000 cost:0.37143\n",
      "Epoch: 870/1000 cost:0.37143\n",
      "Epoch: 880/1000 cost:0.37143\n",
      "Epoch: 890/1000 cost:0.37143\n",
      "Epoch: 900/1000 cost:0.37143\n",
      "Epoch: 910/1000 cost:0.37143\n",
      "Epoch: 920/1000 cost:0.37143\n",
      "Epoch: 930/1000 cost:0.37143\n",
      "Epoch: 940/1000 cost:0.37143\n",
      "Epoch: 950/1000 cost:0.37143\n",
      "Epoch: 960/1000 cost:0.37143\n",
      "Epoch: 970/1000 cost:0.37143\n",
      "Epoch: 980/1000 cost:0.37143\n",
      "Epoch: 990/1000 cost:0.37143\n",
      "Epoch: 1000/1000 cost:0.37143\n"
     ]
    }
   ],
   "source": [
    "epochs = 1000\n",
    "for epoch in range(epochs+1):\n",
    "    pred = model(X_train)\n",
    "    cost = F.mse_loss(y_train,pred)\n",
    "    \n",
    "    optimizer.zero_grad()\n",
    "    cost.backward()\n",
    "    optimizer.step()\n",
    "    \n",
    "    if epoch%10==0:\n",
    "        print('Epoch: {:3d}/{} cost:{:.5f}'.format(epoch,epochs,cost.item()))"
   ]
  },
  {
   "cell_type": "code",
   "execution_count": 44,
   "metadata": {},
   "outputs": [
    {
     "name": "stdout",
     "output_type": "stream",
     "text": [
      "Accuracy : 0.623%\n"
     ]
    }
   ],
   "source": [
    "pred = model(X_test)\n",
    "p = pred>=torch.FloatTensor([0.5])\n",
    "corr = p.float()==y_test\n",
    "print(\"Accuracy : {:2.3f}%\".format(corr.sum().item()/len(corr)))"
   ]
  },
  {
   "cell_type": "code",
   "execution_count": null,
   "metadata": {},
   "outputs": [],
   "source": []
  }
 ],
 "metadata": {
  "kernelspec": {
   "display_name": "Python 3",
   "language": "python",
   "name": "python3"
  },
  "language_info": {
   "codemirror_mode": {
    "name": "ipython",
    "version": 3
   },
   "file_extension": ".py",
   "mimetype": "text/x-python",
   "name": "python",
   "nbconvert_exporter": "python",
   "pygments_lexer": "ipython3",
   "version": "3.7.3"
  }
 },
 "nbformat": 4,
 "nbformat_minor": 2
}
