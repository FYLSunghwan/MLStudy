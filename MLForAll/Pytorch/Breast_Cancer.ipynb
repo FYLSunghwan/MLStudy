{
 "cells": [
  {
   "cell_type": "code",
   "execution_count": 7,
   "metadata": {},
   "outputs": [],
   "source": [
    "import torch\n",
    "import torch.nn as nn\n",
    "import torch.nn.functional as F\n",
    "import torch.optim as optim\n",
    "import pandas as pd\n",
    "from sklearn import datasets\n",
    "from sklearn.model_selection import train_test_split\n",
    "from torch.utils.data import Dataset\n",
    "from torch.utils.data import DataLoader\n",
    "#torch.manual_seed(1)"
   ]
  },
  {
   "cell_type": "code",
   "execution_count": 8,
   "metadata": {},
   "outputs": [],
   "source": [
    "class LogisticRegressionModel(nn.Module):\n",
    "    def __init__(self):\n",
    "        super().__init__()\n",
    "        self.linear = nn.Linear(30, 1)\n",
    "        self.sigmoid = nn.Sigmoid()\n",
    "    \n",
    "    def forward(self, x):\n",
    "        return self.sigmoid(self.linear(x))\n"
   ]
  },
  {
   "cell_type": "code",
   "execution_count": 9,
   "metadata": {},
   "outputs": [
    {
     "name": "stdout",
     "output_type": "stream",
     "text": [
      "torch.Size([455, 30])\n",
      "torch.Size([455, 1])\n"
     ]
    }
   ],
   "source": [
    "data = datasets.load_breast_cancer()\n",
    "\n",
    "\n",
    "x_data = data['data']\n",
    "y_data = data['target']\n",
    "X_train, X_test, y_train, y_test = train_test_split(x_data, y_data, test_size=0.2)\n",
    "X_train = torch.FloatTensor(X_train)\n",
    "y_train = torch.FloatTensor(y_train).view(-1,1)\n",
    "X_test = torch.FloatTensor(X_test)\n",
    "y_test = torch.FloatTensor(y_test).view(-1,1)\n",
    "\n",
    "print(X_train.shape)\n",
    "print(y_train.shape)"
   ]
  },
  {
   "cell_type": "code",
   "execution_count": 10,
   "metadata": {},
   "outputs": [],
   "source": [
    "model = LogisticRegressionModel()\n",
    "optimizer = optim.Adam(model.parameters(),lr=0.001)\n",
    "criterion = nn.BCELoss()"
   ]
  },
  {
   "cell_type": "code",
   "execution_count": 11,
   "metadata": {},
   "outputs": [
    {
     "name": "stdout",
     "output_type": "stream",
     "text": [
      "Epoch:   0/1000 cost:7.11969\n",
      "Epoch:  10/1000 cost:1.12576\n",
      "Epoch:  20/1000 cost:0.84033\n",
      "Epoch:  30/1000 cost:0.50946\n",
      "Epoch:  40/1000 cost:0.60080\n",
      "Epoch:  50/1000 cost:0.48711\n",
      "Epoch:  60/1000 cost:0.48094\n",
      "Epoch:  70/1000 cost:0.46089\n",
      "Epoch:  80/1000 cost:0.44334\n",
      "Epoch:  90/1000 cost:0.42794\n",
      "Epoch: 100/1000 cost:0.41479\n",
      "Epoch: 110/1000 cost:0.40515\n",
      "Epoch: 120/1000 cost:0.39718\n",
      "Epoch: 130/1000 cost:0.39028\n",
      "Epoch: 140/1000 cost:0.38387\n",
      "Epoch: 150/1000 cost:0.37792\n",
      "Epoch: 160/1000 cost:0.37226\n",
      "Epoch: 170/1000 cost:0.36685\n",
      "Epoch: 180/1000 cost:0.36162\n",
      "Epoch: 190/1000 cost:0.35660\n",
      "Epoch: 200/1000 cost:0.35172\n",
      "Epoch: 210/1000 cost:0.34697\n",
      "Epoch: 220/1000 cost:0.34234\n",
      "Epoch: 230/1000 cost:0.33781\n",
      "Epoch: 240/1000 cost:0.33339\n",
      "Epoch: 250/1000 cost:0.32904\n",
      "Epoch: 260/1000 cost:0.32477\n",
      "Epoch: 270/1000 cost:0.32057\n",
      "Epoch: 280/1000 cost:0.31643\n",
      "Epoch: 290/1000 cost:0.31235\n",
      "Epoch: 300/1000 cost:0.30834\n",
      "Epoch: 310/1000 cost:0.30438\n",
      "Epoch: 320/1000 cost:0.30048\n",
      "Epoch: 330/1000 cost:0.29664\n",
      "Epoch: 340/1000 cost:0.29287\n",
      "Epoch: 350/1000 cost:0.28915\n",
      "Epoch: 360/1000 cost:0.28550\n",
      "Epoch: 370/1000 cost:0.28192\n",
      "Epoch: 380/1000 cost:0.27841\n",
      "Epoch: 390/1000 cost:0.27497\n",
      "Epoch: 400/1000 cost:0.27160\n",
      "Epoch: 410/1000 cost:0.26831\n",
      "Epoch: 420/1000 cost:0.26509\n",
      "Epoch: 430/1000 cost:0.26195\n",
      "Epoch: 440/1000 cost:0.25888\n",
      "Epoch: 450/1000 cost:0.25589\n",
      "Epoch: 460/1000 cost:0.25297\n",
      "Epoch: 470/1000 cost:0.25013\n",
      "Epoch: 480/1000 cost:0.24736\n",
      "Epoch: 490/1000 cost:0.24466\n",
      "Epoch: 500/1000 cost:0.24202\n",
      "Epoch: 510/1000 cost:0.23945\n",
      "Epoch: 520/1000 cost:0.23694\n",
      "Epoch: 530/1000 cost:0.23449\n",
      "Epoch: 540/1000 cost:0.23209\n",
      "Epoch: 550/1000 cost:0.22974\n",
      "Epoch: 560/1000 cost:0.22743\n",
      "Epoch: 570/1000 cost:0.22517\n",
      "Epoch: 580/1000 cost:0.22294\n",
      "Epoch: 590/1000 cost:0.22074\n",
      "Epoch: 600/1000 cost:0.21858\n",
      "Epoch: 610/1000 cost:0.21645\n",
      "Epoch: 620/1000 cost:0.21433\n",
      "Epoch: 630/1000 cost:0.21225\n",
      "Epoch: 640/1000 cost:0.21018\n",
      "Epoch: 650/1000 cost:0.20813\n",
      "Epoch: 660/1000 cost:0.20610\n",
      "Epoch: 670/1000 cost:0.20409\n",
      "Epoch: 680/1000 cost:0.20209\n",
      "Epoch: 690/1000 cost:0.20011\n",
      "Epoch: 700/1000 cost:0.19814\n",
      "Epoch: 710/1000 cost:0.19619\n",
      "Epoch: 720/1000 cost:0.19425\n",
      "Epoch: 730/1000 cost:0.19233\n",
      "Epoch: 740/1000 cost:0.19042\n",
      "Epoch: 750/1000 cost:0.18853\n",
      "Epoch: 760/1000 cost:0.18666\n",
      "Epoch: 770/1000 cost:0.18480\n",
      "Epoch: 780/1000 cost:0.18296\n",
      "Epoch: 790/1000 cost:0.18114\n",
      "Epoch: 800/1000 cost:0.17934\n",
      "Epoch: 810/1000 cost:0.17755\n",
      "Epoch: 820/1000 cost:0.17579\n",
      "Epoch: 830/1000 cost:0.17404\n",
      "Epoch: 840/1000 cost:0.17232\n",
      "Epoch: 850/1000 cost:0.17062\n",
      "Epoch: 860/1000 cost:0.16895\n",
      "Epoch: 870/1000 cost:0.16729\n",
      "Epoch: 880/1000 cost:0.16566\n",
      "Epoch: 890/1000 cost:0.16406\n",
      "Epoch: 900/1000 cost:0.16248\n",
      "Epoch: 910/1000 cost:0.16093\n",
      "Epoch: 920/1000 cost:0.15941\n",
      "Epoch: 930/1000 cost:0.15791\n",
      "Epoch: 940/1000 cost:0.15644\n",
      "Epoch: 950/1000 cost:0.15500\n",
      "Epoch: 960/1000 cost:0.15358\n",
      "Epoch: 970/1000 cost:0.15220\n",
      "Epoch: 980/1000 cost:0.15085\n",
      "Epoch: 990/1000 cost:0.14952\n",
      "Epoch: 1000/1000 cost:0.14823\n"
     ]
    }
   ],
   "source": [
    "epochs = 1000\n",
    "for epoch in range(epochs+1):\n",
    "    pred = model(X_train)\n",
    "    cost = criterion(pred,y_train)\n",
    "    \n",
    "    optimizer.zero_grad()\n",
    "    cost.backward()\n",
    "    optimizer.step()\n",
    "    \n",
    "    if epoch%10==0:\n",
    "        print('Epoch: {:3d}/{} cost:{:.5f}'.format(epoch,epochs,cost.item()))"
   ]
  },
  {
   "cell_type": "code",
   "execution_count": 12,
   "metadata": {},
   "outputs": [
    {
     "name": "stdout",
     "output_type": "stream",
     "text": [
      "Accuracy : 91.228%\n"
     ]
    }
   ],
   "source": [
    "pred = model(X_test)\n",
    "p = pred>=torch.FloatTensor([0.5])\n",
    "corr = p.float()==y_test\n",
    "print(\"Accuracy : {:2.3f}%\".format(corr.sum().item()/len(corr)*100))"
   ]
  },
  {
   "cell_type": "code",
   "execution_count": null,
   "metadata": {},
   "outputs": [],
   "source": []
  },
  {
   "cell_type": "code",
   "execution_count": null,
   "metadata": {},
   "outputs": [],
   "source": []
  }
 ],
 "metadata": {
  "kernelspec": {
   "display_name": "Python 3",
   "language": "python",
   "name": "python3"
  },
  "language_info": {
   "codemirror_mode": {
    "name": "ipython",
    "version": 3
   },
   "file_extension": ".py",
   "mimetype": "text/x-python",
   "name": "python",
   "nbconvert_exporter": "python",
   "pygments_lexer": "ipython3",
   "version": "3.7.2"
  }
 },
 "nbformat": 4,
 "nbformat_minor": 2
}
