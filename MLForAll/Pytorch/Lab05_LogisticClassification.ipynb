{
 "cells": [
  {
   "cell_type": "code",
   "execution_count": 1,
   "metadata": {},
   "outputs": [],
   "source": [
    "import torch\n",
    "import torch.nn as nn\n",
    "import torch.nn.functional as F\n",
    "import torch.optim as optim"
   ]
  },
  {
   "cell_type": "code",
   "execution_count": 4,
   "metadata": {},
   "outputs": [
    {
     "data": {
      "text/plain": [
       "<torch._C.Generator at 0x185ae127e70>"
      ]
     },
     "execution_count": 4,
     "metadata": {},
     "output_type": "execute_result"
    }
   ],
   "source": [
    "torch.manual_seed(1)"
   ]
  },
  {
   "cell_type": "code",
   "execution_count": 34,
   "metadata": {},
   "outputs": [],
   "source": [
    "class LogisticRegressionModel(nn.Module):\n",
    "    def __init__(self):\n",
    "        super().__init__()\n",
    "        self.linear = nn.Linear(2, 1)\n",
    "        self.sigmoid = nn.Sigmoid()\n",
    "    \n",
    "    def forward(self, x):\n",
    "        return self.sigmoid(self.linear(x))"
   ]
  },
  {
   "cell_type": "code",
   "execution_count": 35,
   "metadata": {},
   "outputs": [],
   "source": [
    "x_data = torch.FloatTensor([[1, 2], [2, 3], [3, 1], [4, 3], [5, 3], [6, 2]])\n",
    "y_data = torch.FloatTensor([[0], [0], [0], [1], [1], [1]])"
   ]
  },
  {
   "cell_type": "code",
   "execution_count": 36,
   "metadata": {},
   "outputs": [],
   "source": [
    "model = LogisticRegressionModel()\n",
    "optimizer = optim.SGD(model.parameters(),lr=1)"
   ]
  },
  {
   "cell_type": "code",
   "execution_count": 37,
   "metadata": {},
   "outputs": [
    {
     "name": "stdout",
     "output_type": "stream",
     "text": [
      "Epoch:   0/100 Cost: 0.841201 Acc 50.00%\n",
      "Epoch:  10/100 Cost: 0.457889 Acc 66.67%\n",
      "Epoch:  20/100 Cost: 0.423259 Acc 83.33%\n",
      "Epoch:  30/100 Cost: 0.355104 Acc 83.33%\n",
      "Epoch:  40/100 Cost: 0.300464 Acc 83.33%\n",
      "Epoch:  50/100 Cost: 0.251668 Acc 83.33%\n",
      "Epoch:  60/100 Cost: 0.207725 Acc 100.00%\n",
      "Epoch:  70/100 Cost: 0.172860 Acc 100.00%\n",
      "Epoch:  80/100 Cost: 0.152507 Acc 100.00%\n",
      "Epoch:  90/100 Cost: 0.140916 Acc 100.00%\n",
      "Epoch: 100/100 Cost: 0.131552 Acc 100.00%\n"
     ]
    }
   ],
   "source": [
    "epochs = 100\n",
    "for epoch in range(epochs+1):\n",
    "    \n",
    "    pred = model(x_data)\n",
    "    cost = F.binary_cross_entropy(pred, y_data)\n",
    "    \n",
    "    optimizer.zero_grad()\n",
    "    cost.backward()\n",
    "    optimizer.step()\n",
    "    \n",
    "    if epoch%10==0:\n",
    "        p = pred>=torch.FloatTensor([0.5])\n",
    "        corr = p.float() == y_data\n",
    "        acc = corr.sum().item() / len(corr)\n",
    "        print('Epoch:{:4d}/{} Cost: {:.6f} Acc {:2.2f}%'.format(epoch,epochs,cost.item(),acc*100))"
   ]
  },
  {
   "cell_type": "code",
   "execution_count": null,
   "metadata": {},
   "outputs": [],
   "source": []
  },
  {
   "cell_type": "code",
   "execution_count": null,
   "metadata": {},
   "outputs": [],
   "source": []
  }
 ],
 "metadata": {
  "kernelspec": {
   "display_name": "Python 3",
   "language": "python",
   "name": "python3"
  },
  "language_info": {
   "codemirror_mode": {
    "name": "ipython",
    "version": 3
   },
   "file_extension": ".py",
   "mimetype": "text/x-python",
   "name": "python",
   "nbconvert_exporter": "python",
   "pygments_lexer": "ipython3",
   "version": "3.7.3"
  }
 },
 "nbformat": 4,
 "nbformat_minor": 2
}
