{
  "nbformat": 4,
  "nbformat_minor": 0,
  "metadata": {
    "colab": {
      "name": "Lab08_MLP.ipynb",
      "version": "0.3.2",
      "provenance": []
    },
    "kernelspec": {
      "name": "python3",
      "display_name": "Python 3"
    },
    "accelerator": "TPU"
  },
  "cells": [
    {
      "cell_type": "markdown",
      "metadata": {
        "id": "lSwuw9HwjJ4G",
        "colab_type": "text"
      },
      "source": [
        "# Multi Layer Perceptron\n"
      ]
    },
    {
      "cell_type": "code",
      "metadata": {
        "id": "477Il9_HjDji",
        "colab_type": "code",
        "colab": {}
      },
      "source": [
        "import torch\n",
        "import torch.nn as nn\n",
        "import torch.nn.functional as F\n",
        "import torch.optim as optim"
      ],
      "execution_count": 0,
      "outputs": []
    },
    {
      "cell_type": "code",
      "metadata": {
        "id": "qEgvFzBkok5r",
        "colab_type": "code",
        "colab": {}
      },
      "source": [
        "class Perceptron(nn.Module):\n",
        "    def __init__(self):\n",
        "        super().__init__()\n",
        "        self.linear1 = nn.Linear(2,2)\n",
        "        self.linear2 = nn.Linear(2,1)\n",
        "        self.sigmoid = nn.Sigmoid()\n",
        "        \n",
        "    def forward(self,x):\n",
        "      x = self.linear1(x)\n",
        "      x = self.sigmoid(x)\n",
        "      x = self.linear2(x)\n",
        "      return self.sigmoid(x)"
      ],
      "execution_count": 0,
      "outputs": []
    },
    {
      "cell_type": "code",
      "metadata": {
        "id": "1WO5lPA9uguq",
        "colab_type": "code",
        "colab": {}
      },
      "source": [
        "X = torch.FloatTensor([[0,0],[0,1],[1,0],[1,1]])\n",
        "y = torch.FloatTensor([[0],[1],[1],[0]])\n",
        "model = Perceptron()\n",
        "\n",
        "criterion = nn.BCELoss()\n",
        "optimizer = optim.SGD(model.parameters(),lr=1)"
      ],
      "execution_count": 0,
      "outputs": []
    },
    {
      "cell_type": "code",
      "metadata": {
        "id": "P07s3UDAvFit",
        "colab_type": "code",
        "colab": {
          "base_uri": "https://localhost:8080/",
          "height": 1734
        },
        "outputId": "8801688f-f48c-462d-e606-12e3a391a11e"
      },
      "source": [
        "epochs = 10000\n",
        "for epoch in range(epochs+1):\n",
        "  \n",
        "  pred = model(X)\n",
        "  cost = criterion(pred, y)\n",
        "  \n",
        "  optimizer.zero_grad()\n",
        "  cost.backward()\n",
        "  optimizer.step()\n",
        "  \n",
        "  if epoch%100==0:\n",
        "    print('Epoch {:4d}/{} Cost {:5f}'.format(epoch,epochs,cost.item()))"
      ],
      "execution_count": 11,
      "outputs": [
        {
          "output_type": "stream",
          "text": [
            "Epoch    0/10000 Cost 0.752854\n",
            "Epoch  100/10000 Cost 0.690058\n",
            "Epoch  200/10000 Cost 0.666860\n",
            "Epoch  300/10000 Cost 0.461956\n",
            "Epoch  400/10000 Cost 0.137134\n",
            "Epoch  500/10000 Cost 0.063912\n",
            "Epoch  600/10000 Cost 0.040098\n",
            "Epoch  700/10000 Cost 0.028861\n",
            "Epoch  800/10000 Cost 0.022423\n",
            "Epoch  900/10000 Cost 0.018281\n",
            "Epoch 1000/10000 Cost 0.015404\n",
            "Epoch 1100/10000 Cost 0.013296\n",
            "Epoch 1200/10000 Cost 0.011686\n",
            "Epoch 1300/10000 Cost 0.010418\n",
            "Epoch 1400/10000 Cost 0.009394\n",
            "Epoch 1500/10000 Cost 0.008551\n",
            "Epoch 1600/10000 Cost 0.007845\n",
            "Epoch 1700/10000 Cost 0.007246\n",
            "Epoch 1800/10000 Cost 0.006730\n",
            "Epoch 1900/10000 Cost 0.006282\n",
            "Epoch 2000/10000 Cost 0.005889\n",
            "Epoch 2100/10000 Cost 0.005542\n",
            "Epoch 2200/10000 Cost 0.005234\n",
            "Epoch 2300/10000 Cost 0.004957\n",
            "Epoch 2400/10000 Cost 0.004708\n",
            "Epoch 2500/10000 Cost 0.004482\n",
            "Epoch 2600/10000 Cost 0.004277\n",
            "Epoch 2700/10000 Cost 0.004090\n",
            "Epoch 2800/10000 Cost 0.003918\n",
            "Epoch 2900/10000 Cost 0.003760\n",
            "Epoch 3000/10000 Cost 0.003615\n",
            "Epoch 3100/10000 Cost 0.003480\n",
            "Epoch 3200/10000 Cost 0.003354\n",
            "Epoch 3300/10000 Cost 0.003237\n",
            "Epoch 3400/10000 Cost 0.003128\n",
            "Epoch 3500/10000 Cost 0.003027\n",
            "Epoch 3600/10000 Cost 0.002931\n",
            "Epoch 3700/10000 Cost 0.002841\n",
            "Epoch 3800/10000 Cost 0.002757\n",
            "Epoch 3900/10000 Cost 0.002677\n",
            "Epoch 4000/10000 Cost 0.002602\n",
            "Epoch 4100/10000 Cost 0.002531\n",
            "Epoch 4200/10000 Cost 0.002464\n",
            "Epoch 4300/10000 Cost 0.002400\n",
            "Epoch 4400/10000 Cost 0.002339\n",
            "Epoch 4500/10000 Cost 0.002281\n",
            "Epoch 4600/10000 Cost 0.002226\n",
            "Epoch 4700/10000 Cost 0.002174\n",
            "Epoch 4800/10000 Cost 0.002124\n",
            "Epoch 4900/10000 Cost 0.002076\n",
            "Epoch 5000/10000 Cost 0.002031\n",
            "Epoch 5100/10000 Cost 0.001987\n",
            "Epoch 5200/10000 Cost 0.001945\n",
            "Epoch 5300/10000 Cost 0.001905\n",
            "Epoch 5400/10000 Cost 0.001866\n",
            "Epoch 5500/10000 Cost 0.001829\n",
            "Epoch 5600/10000 Cost 0.001794\n",
            "Epoch 5700/10000 Cost 0.001760\n",
            "Epoch 5800/10000 Cost 0.001727\n",
            "Epoch 5900/10000 Cost 0.001695\n",
            "Epoch 6000/10000 Cost 0.001664\n",
            "Epoch 6100/10000 Cost 0.001635\n",
            "Epoch 6200/10000 Cost 0.001606\n",
            "Epoch 6300/10000 Cost 0.001579\n",
            "Epoch 6400/10000 Cost 0.001552\n",
            "Epoch 6500/10000 Cost 0.001526\n",
            "Epoch 6600/10000 Cost 0.001501\n",
            "Epoch 6700/10000 Cost 0.001477\n",
            "Epoch 6800/10000 Cost 0.001454\n",
            "Epoch 6900/10000 Cost 0.001431\n",
            "Epoch 7000/10000 Cost 0.001409\n",
            "Epoch 7100/10000 Cost 0.001388\n",
            "Epoch 7200/10000 Cost 0.001368\n",
            "Epoch 7300/10000 Cost 0.001347\n",
            "Epoch 7400/10000 Cost 0.001328\n",
            "Epoch 7500/10000 Cost 0.001309\n",
            "Epoch 7600/10000 Cost 0.001291\n",
            "Epoch 7700/10000 Cost 0.001273\n",
            "Epoch 7800/10000 Cost 0.001255\n",
            "Epoch 7900/10000 Cost 0.001238\n",
            "Epoch 8000/10000 Cost 0.001222\n",
            "Epoch 8100/10000 Cost 0.001206\n",
            "Epoch 8200/10000 Cost 0.001190\n",
            "Epoch 8300/10000 Cost 0.001175\n",
            "Epoch 8400/10000 Cost 0.001160\n",
            "Epoch 8500/10000 Cost 0.001146\n",
            "Epoch 8600/10000 Cost 0.001132\n",
            "Epoch 8700/10000 Cost 0.001118\n",
            "Epoch 8800/10000 Cost 0.001104\n",
            "Epoch 8900/10000 Cost 0.001091\n",
            "Epoch 9000/10000 Cost 0.001078\n",
            "Epoch 9100/10000 Cost 0.001066\n",
            "Epoch 9200/10000 Cost 0.001054\n",
            "Epoch 9300/10000 Cost 0.001042\n",
            "Epoch 9400/10000 Cost 0.001030\n",
            "Epoch 9500/10000 Cost 0.001019\n",
            "Epoch 9600/10000 Cost 0.001007\n",
            "Epoch 9700/10000 Cost 0.000996\n",
            "Epoch 9800/10000 Cost 0.000986\n",
            "Epoch 9900/10000 Cost 0.000975\n",
            "Epoch 10000/10000 Cost 0.000965\n"
          ],
          "name": "stdout"
        }
      ]
    }
  ]
}